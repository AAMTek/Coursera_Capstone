{
 "cells": [
  {
   "cell_type": "markdown",
   "id": "05c25b2a-bda2-4652-96ee-0a7b773a3943",
   "metadata": {
    "button": false,
    "new_sheet": false,
    "run_control": {
     "read_only": false
    }
   },
   "source": [
    "<center>\n",
    "    <img src=\"https://cf-courses-data.s3.us.cloud-object-storage.appdomain.cloud/IBMDeveloperSkillsNetwork-ML0101EN-SkillsNetwork/labs/Module%203/images/IDSNlogo.png\" width=\"300\" alt=\"cognitiveclass.ai logo\"  />\n",
    "</center>\n",
    "\n",
    "## IBM Capstone Project\n",
    "\n",
    "# The Battle of the Neighborhoods - Week 1, Part 1\n",
    "\n",
    "## Opening a new Chinese Restaurant in Bucharest, Romania\n",
    "\n",
    "*Alhassan Abdul-Mumin*\n",
    "\n",
    "#                                                    August 2020\n"
   ]
  },
  {
   "cell_type": "markdown",
   "id": "3294dd04-1058-4771-9c05-ed1f38dbfb9c",
   "metadata": {},
   "source": [
    "<h1>TABLE OF CONTENTS </h1>\n",
    "\n",
    "<div class=\"alert alert-block alert-info\" style=\"margin-top: 20px\">\n",
    "    <ol>\n",
    "        <li><a href=\"#about_dataset\">Introduction</a></li>\n",
    "        <li><a href=\"#downloading_data\">Business Problem</a></li>\n",
    "        <li><a href=\"#pre-processing\">Data Collection, Description and Analysis</a></li>\n",
    "        <li><a href=\"#setting_up_tree\">Methodology</a></li>\n",
    "        <li><a href=\"#modeling\">Results Section</a></li>\n",
    "        <li><a href=\"#prediction\">Prediction</a></li>\n",
    "        <li><a href=\"#evaluation\">Discussion</a></li>\n",
    "        <li><a>Conclusion</a></li>\n",
    "    </ol>\n",
    "</div>\n",
    "<br>\n",
    "<hr>"
   ]
  },
  {
   "cell_type": "markdown",
   "id": "0dee9aa2-2416-4122-8dea-e65607d676b5",
   "metadata": {},
   "source": [
    "### INTRODUCTION\n",
    "\n",
    "Chinese cuisine takes centre stage across the world.\n",
    "For centuries, the influence of China has been felt across the globe. But the Asian superpower’s growing authority doesn’t only affect the economy: China’s impressive presence is also having an impact on culinary habits. China’s emergence as a global economic powerhouse has led to it having financial interests across the face of the world. Investments range from African natural resources. This has led to the emergence of many Chinese restaurants in Europe and in Romania. As a result, one has to take pragmatic steps in opening a new Chinese restaurant in Romania in order to succeed and outlive competition. We try to group the neighborhoods of Bucharest, Romania and draw insights to where best to open a Chinese restaurant.\n"
   ]
  },
  {
   "cell_type": "markdown",
   "id": "5d6ff52d-651a-467f-8ed9-89a22bb29675",
   "metadata": {},
   "source": [
    "### BUSINESS PROBLEM\n",
    "\n",
    "The aim is to help investors choose the best neighborhood to establish a Chinese restaurant to generate optimum profit. This also helps investors and similar organizations make decisions if they are thinking about opening other restaurants in other location in the country or even if they want to relocate neighbourhoods within the city. Our findings will help stakeholders make informed decisions and address any concerns they have including the different kinds of cuisines, provision stores and what the city has to offer. "
   ]
  },
  {
   "cell_type": "code",
   "execution_count": null,
   "id": "1437f944-dfa7-4439-8c1d-446f3a9b21a7",
   "metadata": {},
   "outputs": [],
   "source": []
  }
 ],
 "metadata": {
  "kernelspec": {
   "display_name": "Python",
   "language": "python",
   "name": "conda-env-python-py"
  },
  "language_info": {
   "codemirror_mode": {
    "name": "ipython",
    "version": 3
   },
   "file_extension": ".py",
   "mimetype": "text/x-python",
   "name": "python",
   "nbconvert_exporter": "python",
   "pygments_lexer": "ipython3",
   "version": "3.6.13"
  }
 },
 "nbformat": 4,
 "nbformat_minor": 5
}
