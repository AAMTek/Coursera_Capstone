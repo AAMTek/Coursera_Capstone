{
 "cells": [
  {
   "cell_type": "markdown",
   "id": "f57f83ba-d705-4f82-8013-506239b97541",
   "metadata": {},
   "source": [
    "***This notebook will be mainly used for my Data Science capstone project***"
   ]
  },
  {
   "cell_type": "code",
   "execution_count": 1,
   "id": "aef05376-d5d0-49fd-b329-55459e39a8b7",
   "metadata": {},
   "outputs": [],
   "source": [
    "import numpy as np \n",
    "import pandas as pd"
   ]
  },
  {
   "cell_type": "code",
   "execution_count": 2,
   "id": "1e702294-c701-4bc2-8595-4f06517ba990",
   "metadata": {},
   "outputs": [
    {
     "name": "stdout",
     "output_type": "stream",
     "text": [
      "Hello Capstone Project Course!\n"
     ]
    }
   ],
   "source": [
    "print(\"Hello Capstone Project Course!\")"
   ]
  },
  {
   "cell_type": "code",
   "execution_count": null,
   "id": "242ac6f6-69e1-48b7-b3aa-a415f9cf1c0b",
   "metadata": {},
   "outputs": [],
   "source": []
  },
  {
   "cell_type": "code",
   "execution_count": null,
   "id": "a9487def-6a21-4809-8414-2f96e22137cf",
   "metadata": {},
   "outputs": [],
   "source": []
  }
 ],
 "metadata": {
  "kernelspec": {
   "display_name": "Python",
   "language": "python",
   "name": "conda-env-python-py"
  },
  "language_info": {
   "codemirror_mode": {
    "name": "ipython",
    "version": 3
   },
   "file_extension": ".py",
   "mimetype": "text/x-python",
   "name": "python",
   "nbconvert_exporter": "python",
   "pygments_lexer": "ipython3",
   "version": "3.6.13"
  }
 },
 "nbformat": 4,
 "nbformat_minor": 5
}
